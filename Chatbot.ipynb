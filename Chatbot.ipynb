{
  "nbformat": 4,
  "nbformat_minor": 0,
  "metadata": {
    "colab": {
      "provenance": [],
      "authorship_tag": "ABX9TyPbcjsLuju5y/7nWzeCAj8X",
      "include_colab_link": true
    },
    "kernelspec": {
      "name": "python3",
      "display_name": "Python 3"
    },
    "language_info": {
      "name": "python"
    }
  },
  "cells": [
    {
      "cell_type": "markdown",
      "metadata": {
        "id": "view-in-github",
        "colab_type": "text"
      },
      "source": [
        "<a href=\"https://colab.research.google.com/github/PedireddiSiriSatya/Codtech_Intern/blob/main/Chatbot.ipynb\" target=\"_parent\"><img src=\"https://colab.research.google.com/assets/colab-badge.svg\" alt=\"Open In Colab\"/></a>"
      ]
    },
    {
      "cell_type": "code",
      "execution_count": 1,
      "metadata": {
        "id": "CmXsk99c0-hh"
      },
      "outputs": [],
      "source": [
        "import re\n",
        "from difflib import get_close_matches\n",
        "from datetime import datetime"
      ]
    },
    {
      "cell_type": "code",
      "source": [
        "# Knowledge Base\n",
        "\n",
        "# Expanded Knowledge Base\n",
        "KB = [\n",
        "    # NLP\n",
        "    (\"what is nlp\", \"NLP (Natural Language Processing) is a field that combines linguistics and computer science to let machines understand human language.\"),\n",
        "    (\"uses of nlp\", \"NLP is used in chatbots, sentiment analysis, machine translation, text summarization, speech recognition, and more.\"),\n",
        "    (\"types of nlp\", \"NLP types include: Syntax Analysis (Parsing), Semantic Analysis, Discourse Integration, Pragmatics.\"),\n",
        "    (\"methods of nlp\", \"Common NLP methods: Tokenization, POS tagging, Named Entity Recognition, Sentiment Analysis, Machine Translation.\"),\n",
        "    (\"advantages of nlp\", \"Advantages: Automates text processing, improves communication with machines, helps in data analysis, supports decision making.\"),\n",
        "    (\"disadvantages of nlp\", \"Disadvantages: Ambiguity in language, context understanding is hard, requires large data and computational resources.\"),\n",
        "\n",
        "    # Python\n",
        "    (\"what is python\", \"Python is a high-level, interpreted programming language known for its simplicity and readability.\"),\n",
        "    (\"uses of python\", \"Python is used for web development, data analysis, AI/ML, automation, game development, and more.\"),\n",
        "    (\"libraries of python\", \"Popular Python libraries include: NumPy, pandas, matplotlib, scikit-learn, TensorFlow, Keras, NLTK, spaCy.\"),\n",
        "    (\"frameworks of python\", \"Popular Python frameworks include: Django, Flask, FastAPI, Pyramid, and Streamlit.\"),\n",
        "\n",
        "    # NLTK and NLP Libraries\n",
        "    (\"what is nltk\", \"NLTK (Natural Language Toolkit) is a Python library for NLP tasks like tokenization, tagging, parsing, and semantic reasoning.\"),\n",
        "    (\"what is spacy\", \"spaCy is an industrial-strength Python NLP library with pre-trained models and fast processing.\"),\n",
        "    (\"other nlp libraries\", \"Other NLP libraries include: TextBlob, Gensim, Transformers (HuggingFace), CoreNLP, Flair.\"),\n",
        "\n",
        "    # Jokes & Small talk\n",
        "    (\"tell me a joke\", \"Why do programmers prefer dark mode? Because light attracts bugs!\"),\n",
        "    (\"hello\", \"Hello! How can I help you today?\"),\n",
        "    (\"bye\", \"Goodbye! Happy coding!\")\n",
        "]\n",
        "KB_questions = [q for q, _ in KB]"
      ],
      "metadata": {
        "id": "GVq6huTn1S4s"
      },
      "execution_count": 2,
      "outputs": []
    },
    {
      "cell_type": "code",
      "source": [
        "def preprocess(text):\n",
        "    \"\"\"Lowercase and clean text\"\"\"\n",
        "    return re.sub(r\"[^\\w\\s]\", \"\", text.lower().strip())"
      ],
      "metadata": {
        "id": "PaVsr-pS1Vaw"
      },
      "execution_count": 3,
      "outputs": []
    },
    {
      "cell_type": "code",
      "source": [
        "def retrieve(query):\n",
        "    \"\"\"Find best matching answer from KB\"\"\"\n",
        "    query = preprocess(query)\n",
        "    matches = get_close_matches(query, KB_questions, n=1, cutoff=0.6)\n",
        "    if matches:\n",
        "        for q, a in KB:\n",
        "            if q == matches[0]:\n",
        "                return a\n",
        "    return None"
      ],
      "metadata": {
        "id": "jPL-eRCi1tS-"
      },
      "execution_count": 4,
      "outputs": []
    },
    {
      "cell_type": "code",
      "source": [
        "def chatbot():\n",
        "    print(\"🤖 Simple NLP Chatbot (type 'bye' to exit)\")\n",
        "    while True:\n",
        "        user = input(\"You: \")\n",
        "        if user.lower() in [\"bye\", \"exit\", \"quit\"]:\n",
        "            print(\"Bot: Goodbye!\")\n",
        "            break\n",
        "        if \"time\" in user.lower():\n",
        "            print(\"Bot:\", \"Current time:\", datetime.now().strftime(\"%Y-%m-%d %H:%M:%S\"))\n",
        "            continue\n",
        "        ans = retrieve(user)\n",
        "        if ans:\n",
        "            print(\"Bot:\", ans)\n",
        "        else:\n",
        "            print(\"Bot: Sorry, I don’t know that. Try asking about NLP, Python, or say 'hello'.\")"
      ],
      "metadata": {
        "id": "eYW9B0ZZ1ygh"
      },
      "execution_count": 5,
      "outputs": []
    },
    {
      "cell_type": "code",
      "source": [
        "# Run chatbot\n",
        "if __name__ == \"__main__\":\n",
        "    chatbot()"
      ],
      "metadata": {
        "colab": {
          "base_uri": "https://localhost:8080/"
        },
        "id": "xxwdZe-A1-re",
        "outputId": "da92731b-f6f9-45f4-de65-f012f7d6ca29"
      },
      "execution_count": null,
      "outputs": [
        {
          "output_type": "stream",
          "name": "stdout",
          "text": [
            "🤖 Simple NLP Chatbot (type 'bye' to exit)\n",
            "You: nlp means\n",
            "Bot: Sorry, I don’t know that. Try asking about NLP, Python, or say 'hello'.\n",
            "You: what is nlp\n",
            "Bot: NLP (Natural Language Processing) is a field that combines linguistics and computer science to let machines understand human language.\n",
            "You: uses of nlp\n",
            "Bot: NLP is used in chatbots, sentiment analysis, machine translation, text summarization, speech recognition, and more.\n"
          ]
        }
      ]
    }
  ]
}